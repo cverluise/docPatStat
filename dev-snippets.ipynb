{
 "cells": [
  {
   "cell_type": "code",
   "execution_count": 43,
   "metadata": {},
   "outputs": [],
   "source": [
    "import PyPDF2\n",
    "import numpy as np"
   ]
  },
  {
   "cell_type": "code",
   "execution_count": 23,
   "metadata": {},
   "outputs": [],
   "source": [
    "path_pdf =  '/Users/cyrilverluise/Documents/PhD/KID18/PatStat/Documentation/DataCatalog_v5.07.pdf'\n",
    "pdf = open(path_pdf, 'rb')\n",
    "l_page = 68"
   ]
  },
  {
   "cell_type": "code",
   "execution_count": 24,
   "metadata": {},
   "outputs": [
    {
     "name": "stderr",
     "output_type": "stream",
     "text": [
      "PdfReadWarning: Xref table not zero-indexed. ID numbers for objects will be corrected. [pdf.py:1736]\n"
     ]
    }
   ],
   "source": [
    "pdf_reader = PyPDF2.PdfFileReader(pdf)\n",
    "# print(pdf_reader.getPage(67).extractText())"
   ]
  },
  {
   "cell_type": "markdown",
   "metadata": {},
   "source": [
    "#  primer"
   ]
  },
  {
   "cell_type": "code",
   "execution_count": 35,
   "metadata": {},
   "outputs": [
    {
     "name": "stdout",
     "output_type": "stream",
     "text": [
      "2016 Spring Edition\n",
      " \n",
      "Version \n",
      "5.07\n",
      " \n",
      "69\n",
      "/\n",
      "280\n",
      " \n",
      " \n"
     ]
    }
   ],
   "source": [
    "text = pdf_reader.getPage(l_page).extractText()\n",
    "print(text[:50])"
   ]
  },
  {
   "cell_type": "code",
   "execution_count": 36,
   "metadata": {},
   "outputs": [
    {
     "name": "stdout",
     "output_type": "stream",
     "text": [
      "['TLS229_APPLN_NACE2: NACE2 industry classification 5.24This table tells to which degree an application belongs to one or more industries.', ' TLS229_APPLN_NACE2 APPLN_ID', 'NACE2_CODE', ' WEIGHT', '']\n"
     ]
    }
   ],
   "source": [
    "# we get rid of the chapeau\n",
    "corpus = text.replace('\\n', '').replace('  ', '\\n').split('\\n')[1:]\n",
    "print(corpus[:5])"
   ]
  },
  {
   "cell_type": "code",
   "execution_count": 38,
   "metadata": {},
   "outputs": [
    {
     "name": "stdout",
     "output_type": "stream",
     "text": [
      "TLS229_APPLN_NACE2\n"
     ]
    }
   ],
   "source": [
    "# we store te table name in a var\n",
    "table_name = corpus[0].split(':')[0]\n",
    "print(table_name)"
   ]
  },
  {
   "cell_type": "code",
   "execution_count": 40,
   "metadata": {},
   "outputs": [
    {
     "name": "stdout",
     "output_type": "stream",
     "text": [
      "TLS229_APPLN_NACE2: NACE2 industry classification 5.24This table tells to which degree an application belongs to one or more industries.\n"
     ]
    }
   ],
   "source": [
    "bounds = [i for i in range(len(corps)) if table_name in corpus[i]]\n",
    "print('\\n'.join(corpus[bounds[0]: bounds[1]]))"
   ]
  },
  {
   "cell_type": "markdown",
   "metadata": {},
   "source": [
    "# Table description"
   ]
  },
  {
   "cell_type": "code",
   "execution_count": 324,
   "metadata": {},
   "outputs": [],
   "source": [
    "def get_table_description(page:int):\n",
    "    corpus = pdf_reader.getPage(page).extractText().replace('\\n', '').replace('  ', '\\n').split('\\n')[1:]\n",
    "    tab_name = corpus[0].split(':')[0]\n",
    "    if tab_name[:3]=='TLS':\n",
    "        paragraphs = [i for i in range(len(corpus)) if tab_name in corpus[i]]\n",
    "        if len(paragraphs)==1:\n",
    "            return {tab_name: {'description':'\\n'.join(corpus), 'page':page+1}}\n",
    "        else:\n",
    "            return {tab_name: {'description':'\\n'.join(corpus[paragraphs[0]: paragraphs[1]]), 'page': page+1}}\n",
    "    else:\n",
    "        pass\n",
    "    return {tab_name: {'description':'\\n'.join(corpus[paragraphs[0]: paragraphs[1]]), 'page': page+1}}"
   ]
  },
  {
   "cell_type": "code",
   "execution_count": 325,
   "metadata": {},
   "outputs": [],
   "source": [
    "tables = {}\n",
    "no_desc = []\n",
    "for page in np.arange(1,200):\n",
    "    try: \n",
    "        tables.update(get_table_description(page))\n",
    "    except:\n",
    "        no_desc += [page]"
   ]
  },
  {
   "cell_type": "code",
   "execution_count": 184,
   "metadata": {},
   "outputs": [
    {
     "data": {
      "text/plain": [
       "{'description': 'TLS203_APPLN_ABSTR: Application abstract 5.3English language abstract when available. If there is no abstract in English, then the most recent abstract in another language is loaded.',\n",
       " 'page': 40}"
      ]
     },
     "execution_count": 184,
     "metadata": {},
     "output_type": "execute_result"
    }
   ],
   "source": [
    "tables['TLS203_APPLN_ABSTR']"
   ]
  },
  {
   "cell_type": "markdown",
   "metadata": {},
   "source": [
    "# Var description"
   ]
  },
  {
   "cell_type": "code",
   "execution_count": 80,
   "metadata": {},
   "outputs": [],
   "source": [
    "l_page = 105 "
   ]
  },
  {
   "cell_type": "code",
   "execution_count": 178,
   "metadata": {},
   "outputs": [],
   "source": [
    "par = ['Name', 'Also Known As', 'Description', 'Domain', 'Default value', 'Source database', \n",
    "       'Source field name', 'Source sub-field identifier', 'Comments', 'Modification history']"
   ]
  },
  {
   "cell_type": "code",
   "execution_count": 318,
   "metadata": {},
   "outputs": [],
   "source": [
    "def get_variable_description(page:int): \n",
    "    var_dict = {}\n",
    "    text = pdf_reader.getPage(page).extractText()\n",
    "    var_name = text.replace('\\n', '').replace('  ', '\\n').split('\\n')[1].split(' ')[0]\n",
    "    count=0\n",
    "    for p in par:\n",
    "        if p in text:\n",
    "            count+=1\n",
    "    if count>=3:\n",
    "        for i in range(len(par)-1):\n",
    "            start = par[i]\n",
    "            end = par[i+1]\n",
    "            j=1\n",
    "            while j <= len(par)-(i+1):\n",
    "                start = par[i]\n",
    "                end = par[i+j]\n",
    "                j+=1\n",
    "                if (start in text and end in text):\n",
    "                    var_dict.update({par[i]:text.replace('\\n', '').replace('  ', '\\n').split(start)[1].split(end)[0].replace(':', '')})\n",
    "    #                print(par[i], ':',text.replace('\\n', '').replace('  ', '\\n').split(start)[1].split(end)[0].replace(':', ''))\n",
    "                    break\n",
    "        var_dict.update({'page':page+1})\n",
    "        return {var_name: var_dict}\n",
    "    else:\n",
    "        return {}\n",
    "\n",
    "#text.replace('\\n', '').replace('  ', '\\n').split(end)[1]\n"
   ]
  },
  {
   "cell_type": "code",
   "execution_count": 327,
   "metadata": {},
   "outputs": [],
   "source": [
    "variables = {}\n",
    "no_desc = []\n",
    "for page in np.arange(1,275):\n",
    "    try: \n",
    "        variables.update(get_variable_description(page))\n",
    "    except:\n",
    "        no_desc += [page]"
   ]
  },
  {
   "cell_type": "code",
   "execution_count": 328,
   "metadata": {},
   "outputs": [
    {
     "data": {
      "text/plain": [
       "dict_keys(['Explanation', 'ADDRESS_1,', 'ADDRESS_FREEFORM', 'APPLN_ABSTRACT', 'APPLN_ABSTRACT_LG', 'APPLN_AUTH', 'APPLN_FILING_DATE', 'APPLN_FILING_YEAR', 'APPLN_ID', 'APPLN_KIND', '', 'APPLN_NR', 'APPLN_NR_EPODOC', 'APPLN_NR_ORIGINAL', 'APPLN_TITLE', 'APPLN_TITLE_LG', 'APPLT_SEQ_NR', 'AUTH_CC', 'CITED_APPLN_ID', 'Citation', 'CITED_DOCDB_FAMILY_ID', 'CITED_NPL_PUBLN_ID', 'CITED_PAT_PUBLN_ID', 'CITN_CATEG', 'CITN_GENER_AUTH', 'CITN_ID', 'CITN_ORIGIN', 'CITY', 'CONTINENT', 'CONTN_TYPE', 'CPC_CLASS_SYMBOL', 'CPC_GENER_AUTH', 'CPC_POSITION', 'CPC_SCHEME', 'CPC_VALUE', 'CPC_VERSION', 'CTRY_CODE', 'DISCONTINUED', 'DOCDB_FAMILY_ID', 'DOCDB_FAMILY_SIZE', 'DOC_STD_NAME', 'DOC_STD_NAME_ID', 'DOCUS_CLASS_SYMBOL', 'EARLIEST_FILING_DATE', 'EARLIEST_FILING_ID', 'EARLIEST_FILING_YEAR', 'EARLIEST_PAT_PUBLN_ID', 'EARLIEST_PUBLN_DATE', 'EARLIEST_PUBLN_YEAR', 'EPO_MEMBER', 'EU_MEMBER', 'FIRST_NAME', 'GRANTED', 'HAN_HARMONIZED', 'HAN_ID', 'HAN_NAME', 'IMPACT', 'INPADOC_FAMILY_ID', 'INT_PHASE', 'INTERNAT_APPLN_ID', 'INVT_SEQ_NR', 'IPC', 'IPC_CLASS_LEVEL', 'IPC_CLASS_SYMBOL', 'IPC_GENER_AUTH', 'IPC_MAINGROUP_SYMBOL', 'IPC_POSITION', 'IPC_VALUE', 'IPC_VERSION', 'IPR_TYPE', 'ISO_ALPHA3', 'JP_CLASS_SCHEME', 'JP_CLASS_SYMBOL', 'L501EP', 'L502EP', 'L503EP', 'L504EP', 'L505EP', 'L506EP', 'L507EP', 'L508EP', 'L509EP', 'L510EP', 'L511EP', 'L512EP', 'L513EP', 'L515EP', 'L516EP', 'L517EP', 'L518EP', 'L519EP', 'L520EP', 'L522EP', 'L523EP', 'L524EP', 'L525EP', 'LAST_NAME', 'LEC_DESCR', 'LEC_ID', 'LEC_NAME', 'LECG_DESCR', 'LECG_ID', 'LECG_NAME', 'MIDDLE_NAME', 'NACE2_CODE', 'NACE2_DESCR', 'NACE2_WEIGHT', 'NAME_FREEFORM', 'NAT_AUTH_CC', 'NAT_LEC_NAME', 'NAT_CLASS_SYMBOL', 'NAT_PHASE', 'NB_APPLICANTS', 'NB_CITING_DOCDB_FAM', 'NB_INVENTORS', 'NOT_WITH_IPC', 'NPL_BIBLIO', 'NPL_CITN_SEQ_NR', 'NPL_PUBLN_ID', 'If', 'NPL_TYPE', 'OECD_MEMBER', 'PARENT_APPLN_ID', 'PAT_CITN_SEQ_NR', 'PAT_PUBLN_ID', 'PERSON_ADDRESS', 'PERSON_CTRY_CODE', 'PERSON_ID', 'PERSON_NAME', 'PERSON_ORIG_ID', 'PRIOR_APPLN_ID', 'PRIOR_APPLN_SEQ_NR', 'PRS_CODE', 'PRS_EVENT_SEQ_NR', 'PRS_GAZETTE_DATE', 'PSN_ID', 'PSN_LEVEL', 'PSN_NAME', 'PSN_SECTOR', 'PUBLN_AUTH', 'PUBLN_CLAIMS', 'PUBLN_DATE', 'PUBLN_FIRST_GRANT', 'PUBLN_KIND', 'PUBLN_LG', 'PUBLN_NR', 'PUBLN_NR_ORIGINAL', 'REG_PHASE', 'RESIDENCE_CTRY_CODE', 'ROLE', 'SOURCE', 'SOURCE_VERSION', 'ST3_NAME', 'STATE', 'STATE_INDICATOR', 'STREET', 'TECH_REL_APPLN_ID', 'TECHN_FIELD', 'TECHN_FIELD_NR', 'TECHN_SECTOR', 'UNLESS_WITH_IPC', 'WEIGHT', 'ZIP_CODE'])"
      ]
     },
     "execution_count": 328,
     "metadata": {},
     "output_type": "execute_result"
    }
   ],
   "source": [
    "variables.keys()"
   ]
  },
  {
   "cell_type": "code",
   "execution_count": 3,
   "metadata": {},
   "outputs": [],
   "source": [
    "from IPython.display import display, Markdown, Latex"
   ]
  },
  {
   "cell_type": "code",
   "execution_count": 330,
   "metadata": {},
   "outputs": [
    {
     "data": {
      "text/markdown": [
       "**Name**: Abstract of application "
      ],
      "text/plain": [
       "<IPython.core.display.Markdown object>"
      ]
     },
     "metadata": {},
     "output_type": "display_data"
    },
    {
     "data": {
      "text/markdown": [
       "**Also Known As**: n/a "
      ],
      "text/plain": [
       "<IPython.core.display.Markdown object>"
      ]
     },
     "metadata": {},
     "output_type": "display_data"
    },
    {
     "data": {
      "text/markdown": [
       "**Description**: Abstract of the application "
      ],
      "text/plain": [
       "<IPython.core.display.Markdown object>"
      ]
     },
     "metadata": {},
     "output_type": "display_data"
    },
    {
     "data": {
      "text/markdown": [
       "**Domain**: Up to 12 000 characters "
      ],
      "text/plain": [
       "<IPython.core.display.Markdown object>"
      ]
     },
     "metadata": {},
     "output_type": "display_data"
    },
    {
     "data": {
      "text/markdown": [
       "**Default value**: n/a "
      ],
      "text/plain": [
       "<IPython.core.display.Markdown object>"
      ]
     },
     "metadata": {},
     "output_type": "display_data"
    },
    {
     "data": {
      "text/markdown": [
       "**Source database**: DOCDB "
      ],
      "text/plain": [
       "<IPython.core.display.Markdown object>"
      ]
     },
     "metadata": {},
     "output_type": "display_data"
    },
    {
     "data": {
      "text/markdown": [
       "**Source field name**: <abstract lang=\"EN\" data-format=\"docdba\" abstractsource=\" National Office\">\n",
       "<p>There is provided a floating surgical cannula. A method of forming a surgical cannula by inserting a floating surgical cannula at a location in need of surgery is provided.</p> </abstract> <abstract lang=\"FR\" country=WO doc-number=\"2005000001\" kind=\"A2\" date=\"20050106\" data-format=\"docdba\" abstractsource=\" National Office\">\n",
       "<p>L'invention concerne une canule chirurgicale flottante. L'invention concerne également un procédé de formation d'une canule chirurgicale qui consiste à introduire une canule chirurgicale flottante dans une zone à opérer.</p> </abstract>\n",
       "Source sub-field identifier data-format=\"docdba\" "
      ],
      "text/plain": [
       "<IPython.core.display.Markdown object>"
      ]
     },
     "metadata": {},
     "output_type": "display_data"
    },
    {
     "data": {
      "text/markdown": [
       "**Comments**: Only one of possibly multiple abstracts is stored. See description of table TLS203_APPLN_ABSTRACT for details.\n",
       "The average size of abstracts is 854 characters; maximum size is 9992 (as of Oct 2013).\n"
      ],
      "text/plain": [
       "<IPython.core.display.Markdown object>"
      ]
     },
     "metadata": {},
     "output_type": "display_data"
    },
    {
     "data": {
      "text/markdown": [
       "**page**:80"
      ],
      "text/plain": [
       "<IPython.core.display.Markdown object>"
      ]
     },
     "metadata": {},
     "output_type": "display_data"
    }
   ],
   "source": [
    "for k,v in variables['APPLN_ABSTRACT'].items():\n",
    "    display(Markdown('**{}**:{}'.format(k,v)))"
   ]
  },
  {
   "cell_type": "code",
   "execution_count": 332,
   "metadata": {},
   "outputs": [],
   "source": [
    "def print_doc(doc:dict):\n",
    "    for k,v in doc.items():\n",
    "        display(Markdown('**{}**:{}'.format(k,v)))"
   ]
  },
  {
   "cell_type": "code",
   "execution_count": 338,
   "metadata": {},
   "outputs": [
    {
     "data": {
      "text/markdown": [
       "**Name**: Application number in EPODOC format "
      ],
      "text/plain": [
       "<IPython.core.display.Markdown object>"
      ]
     },
     "metadata": {},
     "output_type": "display_data"
    },
    {
     "data": {
      "text/markdown": [
       "**Also Known As**: EPODOC application number "
      ],
      "text/plain": [
       "<IPython.core.display.Markdown object>"
      ]
     },
     "metadata": {},
     "output_type": "display_data"
    },
    {
     "data": {
      "text/markdown": [
       "**Description**: Number in EPODOC format (containing letters and digits) which, if present - will uniquely identify an application. The number is created by the EPO based on the DOCDB application number, application authority and application kind. "
      ],
      "text/plain": [
       "<IPython.core.display.Markdown object>"
      ]
     },
     "metadata": {},
     "output_type": "display_data"
    },
    {
     "data": {
      "text/markdown": [
       "**Domain**: Up to 20 ASCII characters (typically, 13 - 14 characters)\n",
       "Explanation of the format, according to Annex XI of the \"Exchange Format\" document of DOCDB, version 2.4.3 from 01.01.2013 Basic structure of application and priority-numbers in data-format=\"epodoc\" is\n",
       "country\n",
       "number\n",
       "ccyy - century/year derived from application- or priority-date\n",
       "nnnnnnn - serial number, leading zeroes when required\n",
       "kind-code, when kind-code not = 'A'\n",
       "Extended structure for a number of countries\n",
       "country [ \"WO\" when kind-code in data-format=\"docdb\" is \"W\" ]\n",
       "number\n",
       "ccyy  century/year derived from application- or priority-date\n",
       "xx  \"other data\"\n",
       "nnnnn  serial number, leading zeroes when required\n",
       "kind-code, when kind-code not = 'A'\n",
       "\"Other data\" may be\n",
       "regional office, e.g. 'MI' when country = 'IT' and regional office = Milan\n",
       "filing country, e.g. 'US' when country = 'WO' and filing country = US\n",
       "...\n",
       "Length of the concatenated string is generally fixed at 13 characters or 14 when the kind-code is appended. Strings exceeding a total of 13 or 14 may occur, when the number of significant digits exceeds the number of digits reserved for the serial number, e.g. DE.\n",
       "A special format applies to numbers that in data-format=\"docdb\" have been suffixed with letters 'D' or 'T' or\n",
       " country\n",
       "'D' or 'T' or 'X'\n",
       "number\n",
       "kind-code, when kind-code not = 'A' "
      ],
      "text/plain": [
       "<IPython.core.display.Markdown object>"
      ]
     },
     "metadata": {},
     "output_type": "display_data"
    },
    {
     "data": {
      "text/markdown": [
       "**Default value**: empty (if not provided by DOCDB due to formatting issues) "
      ],
      "text/plain": [
       "<IPython.core.display.Markdown object>"
      ]
     },
     "metadata": {},
     "output_type": "display_data"
    },
    {
     "data": {
      "text/markdown": [
       "**Source database**: DOCDB\n"
      ],
      "text/plain": [
       "<IPython.core.display.Markdown object>"
      ]
     },
     "metadata": {},
     "output_type": "display_data"
    },
    {
     "data": {
      "text/markdown": [
       "**page**:93"
      ],
      "text/plain": [
       "<IPython.core.display.Markdown object>"
      ]
     },
     "metadata": {},
     "output_type": "display_data"
    }
   ],
   "source": [
    "print_doc(variables['APPLN_NR_EPODOC'])"
   ]
  },
  {
   "cell_type": "code",
   "execution_count": 1,
   "metadata": {},
   "outputs": [],
   "source": [
    "meta = {'Author': 'European Patent Office',\n",
    "        'Distribution': 'EPO PATSTAT customers',\n",
    "        'PATSTAT Edition': '2016 Spring Edition',\n",
    "        'Version': '5.07',\n",
    "        'Date': '01.04.2016'}"
   ]
  },
  {
   "cell_type": "code",
   "execution_count": 9,
   "metadata": {},
   "outputs": [],
   "source": [
    "def printmd(func):\n",
    "    def func_wrapper(self):\n",
    "        for k, v in func(self).items():\n",
    "            display(Markdown('**{}**:{}'.format(k, v)))"
   ]
  },
  {
   "cell_type": "code",
   "execution_count": 4,
   "metadata": {},
   "outputs": [
    {
     "data": {
      "text/markdown": [
       "**Author**:European Patent Office"
      ],
      "text/plain": [
       "<IPython.core.display.Markdown object>"
      ]
     },
     "metadata": {},
     "output_type": "display_data"
    },
    {
     "data": {
      "text/markdown": [
       "**Distribution**:EPO PATSTAT customers"
      ],
      "text/plain": [
       "<IPython.core.display.Markdown object>"
      ]
     },
     "metadata": {},
     "output_type": "display_data"
    },
    {
     "data": {
      "text/markdown": [
       "**PATSTAT Edition**:2016 Spring Edition"
      ],
      "text/plain": [
       "<IPython.core.display.Markdown object>"
      ]
     },
     "metadata": {},
     "output_type": "display_data"
    },
    {
     "data": {
      "text/markdown": [
       "**Version**:5.07"
      ],
      "text/plain": [
       "<IPython.core.display.Markdown object>"
      ]
     },
     "metadata": {},
     "output_type": "display_data"
    },
    {
     "data": {
      "text/markdown": [
       "**Date**:01.04.2016"
      ],
      "text/plain": [
       "<IPython.core.display.Markdown object>"
      ]
     },
     "metadata": {},
     "output_type": "display_data"
    }
   ],
   "source": [
    "printmd(meta)"
   ]
  },
  {
   "cell_type": "code",
   "execution_count": 10,
   "metadata": {},
   "outputs": [],
   "source": [
    "class ShortDoc:\n",
    "    def __init__(self):\n",
    "        self.desc = pickle.load(open('doc-api/patstat2016a_doc-api.pickle', 'rb'))\n",
    "        self.meta = self.desc['meta']\n",
    "        self.tables = self.desc['tables']\n",
    "        self.variables = self.desc['variables']\n",
    "    \n",
    "    @printmd\n",
    "    def version(self):\n",
    "        return self.meta\n",
    "    \n",
    "    def list_tables(self):\n",
    "        return self.tables.keys()\n",
    "\n"
   ]
  },
  {
   "cell_type": "code",
   "execution_count": 11,
   "metadata": {},
   "outputs": [
    {
     "ename": "NameError",
     "evalue": "name 'pickle' is not defined",
     "output_type": "error",
     "traceback": [
      "\u001b[0;31m---------------------------------------------------------------------------\u001b[0m",
      "\u001b[0;31mNameError\u001b[0m                                 Traceback (most recent call last)",
      "\u001b[0;32m<ipython-input-11-727b850c0df9>\u001b[0m in \u001b[0;36m<module>\u001b[0;34m\u001b[0m\n\u001b[0;32m----> 1\u001b[0;31m \u001b[0mtest\u001b[0m \u001b[0;34m=\u001b[0m \u001b[0mShortDoc\u001b[0m\u001b[0;34m(\u001b[0m\u001b[0;34m)\u001b[0m\u001b[0;34m\u001b[0m\u001b[0m\n\u001b[0m",
      "\u001b[0;32m<ipython-input-10-306276288374>\u001b[0m in \u001b[0;36m__init__\u001b[0;34m(self)\u001b[0m\n\u001b[1;32m      1\u001b[0m \u001b[0;32mclass\u001b[0m \u001b[0mShortDoc\u001b[0m\u001b[0;34m:\u001b[0m\u001b[0;34m\u001b[0m\u001b[0m\n\u001b[1;32m      2\u001b[0m     \u001b[0;32mdef\u001b[0m \u001b[0m__init__\u001b[0m\u001b[0;34m(\u001b[0m\u001b[0mself\u001b[0m\u001b[0;34m)\u001b[0m\u001b[0;34m:\u001b[0m\u001b[0;34m\u001b[0m\u001b[0m\n\u001b[0;32m----> 3\u001b[0;31m         \u001b[0mself\u001b[0m\u001b[0;34m.\u001b[0m\u001b[0mdesc\u001b[0m \u001b[0;34m=\u001b[0m \u001b[0mpickle\u001b[0m\u001b[0;34m.\u001b[0m\u001b[0mload\u001b[0m\u001b[0;34m(\u001b[0m\u001b[0mopen\u001b[0m\u001b[0;34m(\u001b[0m\u001b[0;34m'doc-api/patstat2016a_doc-api.pickle'\u001b[0m\u001b[0;34m,\u001b[0m \u001b[0;34m'rb'\u001b[0m\u001b[0;34m)\u001b[0m\u001b[0;34m)\u001b[0m\u001b[0;34m\u001b[0m\u001b[0m\n\u001b[0m\u001b[1;32m      4\u001b[0m         \u001b[0mself\u001b[0m\u001b[0;34m.\u001b[0m\u001b[0mmeta\u001b[0m \u001b[0;34m=\u001b[0m \u001b[0mself\u001b[0m\u001b[0;34m.\u001b[0m\u001b[0mdesc\u001b[0m\u001b[0;34m[\u001b[0m\u001b[0;34m'meta'\u001b[0m\u001b[0;34m]\u001b[0m\u001b[0;34m\u001b[0m\u001b[0m\n\u001b[1;32m      5\u001b[0m         \u001b[0mself\u001b[0m\u001b[0;34m.\u001b[0m\u001b[0mtables\u001b[0m \u001b[0;34m=\u001b[0m \u001b[0mself\u001b[0m\u001b[0;34m.\u001b[0m\u001b[0mdesc\u001b[0m\u001b[0;34m[\u001b[0m\u001b[0;34m'tables'\u001b[0m\u001b[0;34m]\u001b[0m\u001b[0;34m\u001b[0m\u001b[0m\n",
      "\u001b[0;31mNameError\u001b[0m: name 'pickle' is not defined"
     ]
    }
   ],
   "source": [
    "test = ShortDoc()"
   ]
  },
  {
   "cell_type": "code",
   "execution_count": 17,
   "metadata": {},
   "outputs": [
    {
     "name": "stdout",
     "output_type": "stream",
     "text": [
      "<p><generator object p_decorate.<locals>.func_wrapper.<locals>.<genexpr> at 0x10466c930></p>\n"
     ]
    }
   ],
   "source": [
    "def p_decorate(func):\n",
    "    def func_wrapper(self):\n",
    "        return \"<p>{0}</p>\".format(i for i in func(self))\n",
    "    return func_wrapper\n",
    "\n",
    "class Person(object):\n",
    "    def __init__(self):\n",
    "        self.meta = {'Author': 'European Patent Office',\n",
    "                        'Distribution': 'EPO PATSTAT customers',\n",
    "                        'PATSTAT Edition': '2016 Spring Edition',\n",
    "                        'Version': '5.07',\n",
    "                        'Date': '01.04.2016'}\n",
    "        self.family = \"Doe\"\n",
    "\n",
    "    @p_decorate\n",
    "    def get_fullname(self):\n",
    "        return [it for it in self.meta.items()]\n",
    "#        return self.name+\" \"+self.family\n",
    "\n",
    "my_person = Person()\n",
    "print(my_person.get_fullname())"
   ]
  },
  {
   "cell_type": "code",
   "execution_count": null,
   "metadata": {},
   "outputs": [],
   "source": []
  }
 ],
 "metadata": {
  "kernelspec": {
   "display_name": "jupyter",
   "language": "python",
   "name": "jupyter"
  },
  "language_info": {
   "codemirror_mode": {
    "name": "ipython",
    "version": 3
   },
   "file_extension": ".py",
   "mimetype": "text/x-python",
   "name": "python",
   "nbconvert_exporter": "python",
   "pygments_lexer": "ipython3",
   "version": "3.7.0"
  },
  "latex_envs": {
   "LaTeX_envs_menu_present": true,
   "autoclose": false,
   "autocomplete": true,
   "bibliofile": "biblio.bib",
   "cite_by": "apalike",
   "current_citInitial": 1,
   "eqLabelWithNumbers": true,
   "eqNumInitial": 1,
   "hotkeys": {
    "equation": "Ctrl-E",
    "itemize": "Ctrl-I"
   },
   "labels_anchors": false,
   "latex_user_defs": false,
   "report_style_numbering": false,
   "user_envs_cfg": false
  },
  "toc": {
   "base_numbering": 1,
   "nav_menu": {},
   "number_sections": true,
   "sideBar": true,
   "skip_h1_title": false,
   "title_cell": "Table of Contents",
   "title_sidebar": "Contents",
   "toc_cell": false,
   "toc_position": {},
   "toc_section_display": true,
   "toc_window_display": false
  }
 },
 "nbformat": 4,
 "nbformat_minor": 2
}
