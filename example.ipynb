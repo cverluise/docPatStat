{
 "cells": [
  {
   "cell_type": "code",
   "execution_count": 20,
   "metadata": {},
   "outputs": [
    {
     "name": "stdout",
     "output_type": "stream",
     "text": [
      "The autoreload extension is already loaded. To reload it, use:\n",
      "  %reload_ext autoreload\n"
     ]
    }
   ],
   "source": [
    "%load_ext autoreload\n",
    "%autoreload 2"
   ]
  },
  {
   "cell_type": "markdown",
   "metadata": {},
   "source": [
    "**Purpose**: This notebook shows how the `doc-api` can be used in a notebook. \n",
    "\n",
    "**Disclaimer**: This is a very preliminary release, please feel free to contact me for comments and remarks. "
   ]
  },
  {
   "cell_type": "code",
   "execution_count": 50,
   "metadata": {},
   "outputs": [],
   "source": [
    "from shortdoc import ShortDoc, print_markdown, print_signature"
   ]
  },
  {
   "cell_type": "markdown",
   "metadata": {},
   "source": [
    "# Cite source"
   ]
  },
  {
   "cell_type": "code",
   "execution_count": 25,
   "metadata": {
    "scrolled": true
   },
   "outputs": [
    {
     "data": {
      "text/markdown": [
       "**Author**: European patent office"
      ],
      "text/plain": [
       "<IPython.core.display.Markdown object>"
      ]
     },
     "metadata": {},
     "output_type": "display_data"
    },
    {
     "data": {
      "text/markdown": [
       "**Distribution**: Epo patstat customers"
      ],
      "text/plain": [
       "<IPython.core.display.Markdown object>"
      ]
     },
     "metadata": {},
     "output_type": "display_data"
    },
    {
     "data": {
      "text/markdown": [
       "**Patstat edition**: 2016 spring edition"
      ],
      "text/plain": [
       "<IPython.core.display.Markdown object>"
      ]
     },
     "metadata": {},
     "output_type": "display_data"
    },
    {
     "data": {
      "text/markdown": [
       "**Version**: 5.07"
      ],
      "text/plain": [
       "<IPython.core.display.Markdown object>"
      ]
     },
     "metadata": {},
     "output_type": "display_data"
    },
    {
     "data": {
      "text/markdown": [
       "**Date**: 01.04.2016"
      ],
      "text/plain": [
       "<IPython.core.display.Markdown object>"
      ]
     },
     "metadata": {},
     "output_type": "display_data"
    },
    {
     "data": {
      "text/html": [
       "<font color=#1F618D>WARNING: completeness is not guaranteed</font>"
      ],
      "text/plain": [
       "<IPython.core.display.HTML object>"
      ]
     },
     "metadata": {},
     "output_type": "display_data"
    }
   ],
   "source": [
    "print_markdown(ShortDoc().version())"
   ]
  },
  {
   "cell_type": "code",
   "execution_count": 51,
   "metadata": {},
   "outputs": [
    {
     "data": {
      "text/markdown": [
       "*European Patent Office, EPO PATSTAT customers, 2016 Spring Edition, 5.07, 01.04.2016*"
      ],
      "text/plain": [
       "<IPython.core.display.Markdown object>"
      ]
     },
     "metadata": {},
     "output_type": "display_data"
    }
   ],
   "source": [
    "print_signature()"
   ]
  },
  {
   "cell_type": "markdown",
   "metadata": {},
   "source": [
    "# Describe content"
   ]
  },
  {
   "cell_type": "code",
   "execution_count": 26,
   "metadata": {},
   "outputs": [
    {
     "data": {
      "text/markdown": [
       "**Description**: Tls205_tech_rel: technical relation 5.5technical relations are \"priority-like\" relations between applications which have been detected by epo examiners but which have not been published by a patent office.\n",
       "from a statistical point of view you should consider them equal to the priority and continuation relations established in tls204_appln_prior and in tls216_appln_contn."
      ],
      "text/plain": [
       "<IPython.core.display.Markdown object>"
      ]
     },
     "metadata": {},
     "output_type": "display_data"
    },
    {
     "data": {
      "text/markdown": [
       "**Page**: 43"
      ],
      "text/plain": [
       "<IPython.core.display.Markdown object>"
      ]
     },
     "metadata": {},
     "output_type": "display_data"
    },
    {
     "data": {
      "text/html": [
       "<font color=#1F618D>WARNING: completeness is not guaranteed</font>"
      ],
      "text/plain": [
       "<IPython.core.display.HTML object>"
      ]
     },
     "metadata": {},
     "output_type": "display_data"
    }
   ],
   "source": [
    "print_markdown(ShortDoc().desc_table('TLS205_TECH_REL'))"
   ]
  },
  {
   "cell_type": "code",
   "execution_count": 33,
   "metadata": {},
   "outputs": [
    {
     "data": {
      "text/markdown": [
       "**Name**:  application filing date "
      ],
      "text/plain": [
       "<IPython.core.display.Markdown object>"
      ]
     },
     "metadata": {},
     "output_type": "display_data"
    },
    {
     "data": {
      "text/markdown": [
       "**Also known as**:  date of receipt "
      ],
      "text/plain": [
       "<IPython.core.display.Markdown object>"
      ]
     },
     "metadata": {},
     "output_type": "display_data"
    },
    {
     "data": {
      "text/markdown": [
       "**Description**:  date on which the application was physically received at the patent authority "
      ],
      "text/plain": [
       "<IPython.core.display.Markdown object>"
      ]
     },
     "metadata": {},
     "output_type": "display_data"
    },
    {
     "data": {
      "text/markdown": [
       "**Domain**:  date (up to 9999-12-31) "
      ],
      "text/plain": [
       "<IPython.core.display.Markdown object>"
      ]
     },
     "metadata": {},
     "output_type": "display_data"
    },
    {
     "data": {
      "text/markdown": [
       "**Default value**:  9999-12-31 "
      ],
      "text/plain": [
       "<IPython.core.display.Markdown object>"
      ]
     },
     "metadata": {},
     "output_type": "display_data"
    },
    {
     "data": {
      "text/markdown": [
       "**Source database**:  docdb\n"
      ],
      "text/plain": [
       "<IPython.core.display.Markdown object>"
      ]
     },
     "metadata": {},
     "output_type": "display_data"
    },
    {
     "data": {
      "text/markdown": [
       "**Page**: 85"
      ],
      "text/plain": [
       "<IPython.core.display.Markdown object>"
      ]
     },
     "metadata": {},
     "output_type": "display_data"
    },
    {
     "data": {
      "text/html": [
       "<font color=#1F618D>WARNING: completeness is not guaranteed</font>"
      ],
      "text/plain": [
       "<IPython.core.display.HTML object>"
      ]
     },
     "metadata": {},
     "output_type": "display_data"
    }
   ],
   "source": [
    "print_markdown(ShortDoc().desc_variable('APPLN_FILING_DATE'))"
   ]
  },
  {
   "cell_type": "markdown",
   "metadata": {},
   "source": [
    "# List content"
   ]
  },
  {
   "cell_type": "code",
   "execution_count": 53,
   "metadata": {},
   "outputs": [
    {
     "data": {
      "text/plain": [
       "dict_keys(['TLS203_APPLN_ABSTR', 'TLS201_APPLN An PCT application in its regional/national phase contains in its attribute INTERNAT_APPLN_ID the APPLN_ID of its original PCT application', 'TLS216_CONTN', 'TLS201_APPLN', 'TLS202_APPLN_TITLE', 'TLS204_APPLN_PRIOR', 'TLS205_TECH_REL', 'TLS206_PERSON / TLS906_PERSON', 'TLS207_PERS_APPLN', 'TLS209_APPLN_IPC', 'TLS210_APPLN_N_CLS', 'TLS211_PAT_PUBLN', 'TLS212_CITATION', 'TLS214_NPL_PUBLN', 'TLS215_CITN_CATEG', 'TLS216_APPLN_CONTN', 'TLS218_DOCDB_FAM', 'TLS219_INPADOC_FAM', 'TLS221_INPADOC_PRS', 'TLS222_APPLN_JP_CLASS', 'TLS223_APPLN_DOCUS', 'TLS224_APPLN_CPC', 'TLS226_PERSON_ORIG', 'TLS227_PERS_PUBLN', 'TLS228_DOCDB_FAM_CITN', 'TLS229_APPLN_NACE2', 'TLS230_APPLN_TECHN_FIELD', 'TLS801_COUNTRY', 'TLS802_LEGAL_EVENT_CODE', 'TLS901_TECHN_FIELD_IPC', 'TLS902_IPC_NACE2', 'TLS906_PERSON'])"
      ]
     },
     "execution_count": 53,
     "metadata": {},
     "output_type": "execute_result"
    }
   ],
   "source": [
    "ShortDoc().list_tables()"
   ]
  },
  {
   "cell_type": "code",
   "execution_count": 54,
   "metadata": {},
   "outputs": [
    {
     "data": {
      "text/plain": [
       "dict_keys(['Explanation', 'ADDRESS_1,', 'ADDRESS_FREEFORM', 'APPLN_ABSTRACT', 'APPLN_ABSTRACT_LG', 'APPLN_AUTH', 'APPLN_FILING_DATE', 'APPLN_FILING_YEAR', 'APPLN_ID', 'APPLN_KIND', '', 'APPLN_NR', 'APPLN_NR_EPODOC', 'APPLN_NR_ORIGINAL', 'APPLN_TITLE', 'APPLN_TITLE_LG', 'APPLT_SEQ_NR', 'AUTH_CC', 'CITED_APPLN_ID', 'Citation', 'CITED_DOCDB_FAMILY_ID', 'CITED_NPL_PUBLN_ID', 'CITED_PAT_PUBLN_ID', 'CITN_CATEG', 'CITN_GENER_AUTH', 'CITN_ID', 'CITN_ORIGIN', 'CITY', 'CONTINENT', 'CONTN_TYPE', 'CPC_CLASS_SYMBOL', 'CPC_GENER_AUTH', 'CPC_POSITION', 'CPC_SCHEME', 'CPC_VALUE', 'CPC_VERSION', 'CTRY_CODE', 'DISCONTINUED', 'DOCDB_FAMILY_ID', 'DOCDB_FAMILY_SIZE', 'DOC_STD_NAME', 'DOC_STD_NAME_ID', 'DOCUS_CLASS_SYMBOL', 'EARLIEST_FILING_DATE', 'EARLIEST_FILING_ID', 'EARLIEST_FILING_YEAR', 'EARLIEST_PAT_PUBLN_ID', 'EARLIEST_PUBLN_DATE', 'EARLIEST_PUBLN_YEAR', 'EPO_MEMBER', 'EU_MEMBER', 'FIRST_NAME', 'GRANTED', 'HAN_HARMONIZED', 'HAN_ID', 'HAN_NAME', 'IMPACT', 'INPADOC_FAMILY_ID', 'INT_PHASE', 'INTERNAT_APPLN_ID', 'INVT_SEQ_NR', 'IPC', 'IPC_CLASS_LEVEL', 'IPC_CLASS_SYMBOL', 'IPC_GENER_AUTH', 'IPC_MAINGROUP_SYMBOL', 'IPC_POSITION', 'IPC_VALUE', 'IPC_VERSION', 'IPR_TYPE', 'ISO_ALPHA3', 'JP_CLASS_SCHEME', 'JP_CLASS_SYMBOL', 'L501EP', 'L502EP', 'L503EP', 'L504EP', 'L505EP', 'L506EP', 'L507EP', 'L508EP', 'L509EP', 'L510EP', 'L511EP', 'L512EP', 'L513EP', 'L515EP', 'L516EP', 'L517EP', 'L518EP', 'L519EP', 'L520EP', 'L522EP', 'L523EP', 'L524EP', 'L525EP', 'LAST_NAME', 'LEC_DESCR', 'LEC_ID', 'LEC_NAME', 'LECG_DESCR', 'LECG_ID', 'LECG_NAME', 'MIDDLE_NAME', 'NACE2_CODE', 'NACE2_DESCR', 'NACE2_WEIGHT', 'NAME_FREEFORM', 'NAT_AUTH_CC', 'NAT_LEC_NAME', 'NAT_CLASS_SYMBOL', 'NAT_PHASE', 'NB_APPLICANTS', 'NB_CITING_DOCDB_FAM', 'NB_INVENTORS', 'NOT_WITH_IPC', 'NPL_BIBLIO', 'NPL_CITN_SEQ_NR', 'NPL_PUBLN_ID', 'If', 'NPL_TYPE', 'OECD_MEMBER', 'PARENT_APPLN_ID', 'PAT_CITN_SEQ_NR', 'PAT_PUBLN_ID', 'PERSON_ADDRESS', 'PERSON_CTRY_CODE', 'PERSON_ID', 'PERSON_NAME', 'PERSON_ORIG_ID', 'PRIOR_APPLN_ID', 'PRIOR_APPLN_SEQ_NR', 'PRS_CODE', 'PRS_EVENT_SEQ_NR', 'PRS_GAZETTE_DATE', 'PSN_ID', 'PSN_LEVEL', 'PSN_NAME', 'PSN_SECTOR', 'PUBLN_AUTH', 'PUBLN_CLAIMS', 'PUBLN_DATE', 'PUBLN_FIRST_GRANT', 'PUBLN_KIND', 'PUBLN_LG', 'PUBLN_NR', 'PUBLN_NR_ORIGINAL', 'REG_PHASE', 'RESIDENCE_CTRY_CODE', 'ROLE', 'SOURCE', 'SOURCE_VERSION', 'ST3_NAME', 'STATE', 'STATE_INDICATOR', 'STREET', 'TECH_REL_APPLN_ID', 'TECHN_FIELD', 'TECHN_FIELD_NR', 'TECHN_SECTOR', 'UNLESS_WITH_IPC', 'WEIGHT', 'ZIP_CODE'])"
      ]
     },
     "execution_count": 54,
     "metadata": {},
     "output_type": "execute_result"
    }
   ],
   "source": [
    "ShortDoc().list_variables()"
   ]
  },
  {
   "cell_type": "code",
   "execution_count": null,
   "metadata": {},
   "outputs": [],
   "source": []
  }
 ],
 "metadata": {
  "kernelspec": {
   "display_name": "jupyter",
   "language": "python",
   "name": "jupyter"
  },
  "language_info": {
   "codemirror_mode": {
    "name": "ipython",
    "version": 3
   },
   "file_extension": ".py",
   "mimetype": "text/x-python",
   "name": "python",
   "nbconvert_exporter": "python",
   "pygments_lexer": "ipython3",
   "version": "3.7.0"
  },
  "latex_envs": {
   "LaTeX_envs_menu_present": true,
   "autoclose": false,
   "autocomplete": true,
   "bibliofile": "biblio.bib",
   "cite_by": "apalike",
   "current_citInitial": 1,
   "eqLabelWithNumbers": true,
   "eqNumInitial": 1,
   "hotkeys": {
    "equation": "Ctrl-E",
    "itemize": "Ctrl-I"
   },
   "labels_anchors": false,
   "latex_user_defs": false,
   "report_style_numbering": false,
   "user_envs_cfg": false
  },
  "toc": {
   "base_numbering": 1,
   "nav_menu": {},
   "number_sections": true,
   "sideBar": true,
   "skip_h1_title": false,
   "title_cell": "Table of Contents",
   "title_sidebar": "Contents",
   "toc_cell": false,
   "toc_position": {},
   "toc_section_display": true,
   "toc_window_display": false
  }
 },
 "nbformat": 4,
 "nbformat_minor": 2
}
